{
 "cells": [
  {
   "cell_type": "markdown",
   "metadata": {
    "id": "hutIH7_uyvjZ"
   },
   "source": [
    "## 1. Implementation of the k-Nearest Neighbours (kNN) classifier and Cross-Validation\n",
    "\n",
    "Implementation of kNN and cross validation from scratch. The purpose is to fully understand these algorithmswithout using any library such as scikit-learn that already has kNN or cross validation implemented.\n",
    "\n",
    "## 1.1 Implementation of the k-Nearest Neighbours classifier\n",
    "\n",
    "\n",
    "\n",
    "The kNN classifier mainly consists of two stages:\n",
    "\n",
    "1.   During training, the classifier takes the training data and stores it.\n",
    "2.   During testing, kNN classifies every test example $x$ by \n",
    "\n",
    "> i) finding the $k$ training examples that are most similar to $x$;\n",
    "\n",
    "> ii) outputing the most common label among these $k$ examples.\n",
    "\n",
    "To measure the similarity between samples the Euclidean distance is used. The Euclidean distance (a.k.a. $L_2$ distance) between two examples $p$ and $q$ in an $n$-dimensional space is defined as the square root of:\n",
    "\n",
    "\\begin{equation}\n",
    "(p_1-q_1)^2 + (p_2-q_2)^2 + ... + (p_n-q_n)^2. \\tag{1}\n",
    "\\end{equation}\n",
    "\n",
    "This term is equal to \n",
    "\\begin{equation}\n",
    "\\sum_i p_i^2 + \\sum_i q_i^2 - 2 \\sum_i p_i q_i. \\tag{2}\n",
    "\\end{equation}\n",
    "\n",
    "\n",
    "With Euclidean distance, the smaller the value, the more similar the two examples are."
   ]
  },
  {
   "cell_type": "code",
   "execution_count": 1,
   "metadata": {
    "id": "FWDHxYKZGV1B"
   },
   "outputs": [],
   "source": [
    "# set up code for this experiment\n",
    "import numpy as np\n",
    "import matplotlib.pyplot as plt\n",
    "\n",
    "%matplotlib inline\n",
    "\n",
    "np.random.seed(1)"
   ]
  },
  {
   "cell_type": "code",
   "execution_count": 2,
   "metadata": {
    "colab": {
     "base_uri": "https://localhost:8080/"
    },
    "id": "ukpJSEIfBzt6",
    "outputId": "ac3c2118-dffc-4552-c7e6-ee64133b386f"
   },
   "outputs": [],
   "source": [
    "def my_euclidean_dist(X_test, X_train):\n",
    "    \"\"\"\n",
    "    Compute the *squared* distance between each test example and each training example\n",
    "\n",
    "    Input:\n",
    "    - X_test: A numpy array of shape (num_test, dim_feat) containing test data\n",
    "    - X_train: A numpy array of shape (num_train, dim_feat) containing training data\n",
    "\n",
    "    Output:\n",
    "    - dists: A numpy array of shape (num_test, num_train) where \n",
    "           dist[i, j] is the squared Euclidean distance between \n",
    "           the i-th test example and the j-th training example\n",
    "    \"\"\"\n",
    "    num_test = X_test.shape[0]\n",
    "    num_train = X_train.shape[0]\n",
    "    dists = np.zeros((num_test, num_train))\n",
    "\n",
    "    # Compute the squared L2 distance between all test and training examples.\n",
    "    a = np.zeros([num_test])\n",
    "    b = np.zeros([num_train])\n",
    "    for i in range(0, num_test):\n",
    "        a[i] = np.sum(np.square(X_test[i]))\n",
    "\n",
    "    for j in range(0, num_train):\n",
    "        b[j] = np.sum(np.square(X_train[j]))\n",
    "\n",
    "    for i in range(0, num_test):\n",
    "        for j in range(0, num_train):\n",
    "            dists[i,j] = a[i] + b[j] - 2*np.dot(X_test[i], X_train[j])\n",
    "\n",
    "    return dists\n"
   ]
  },
  {
   "cell_type": "markdown",
   "metadata": {
    "id": "7aEEdL4Oww8O"
   },
   "source": [
    "To avoid using loops Equation (2) can be formulated with linear algebra.  The trick is to reformulate the L2 distance as two broadcast sums and matrix multiplication.  "
   ]
  },
  {
   "cell_type": "code",
   "execution_count": 3,
   "metadata": {
    "colab": {
     "base_uri": "https://localhost:8080/"
    },
    "id": "6XsyQxBYxBvp",
    "outputId": "d9b3b3b4-0a9b-4665-d31d-9dbedaee7345"
   },
   "outputs": [],
   "source": [
    "def euclidean_dist(X_test, X_train):\n",
    "    dists = np.add(np.sum(X_test ** 2, axis=1, keepdims=True), np.sum(X_train ** 2, axis=1, keepdims=True).T) - 2* X_test @ X_train.T\n",
    "    return dists"
   ]
  },
  {
   "cell_type": "markdown",
   "metadata": {
    "id": "T_aUcYK-KINy"
   },
   "source": [
    "Once distances are calculated, we can find the top $k$ nearest neighbors for each test example by retrieving from the dists matrix. \n",
    "In particular, for each test example $x$, we can sort all the training examples by their distance to $x$ then find the $k$ most nearest neighbors.  "
   ]
  },
  {
   "cell_type": "code",
   "execution_count": 8,
   "metadata": {
    "colab": {
     "base_uri": "https://localhost:8080/"
    },
    "id": "lveUni0IT2G4",
    "outputId": "4e9ff411-e8ef-4a1d-ef33-d2177c0692d8"
   },
   "outputs": [],
   "source": [
    "def find_k_neighbors(dists, Y_train, k):\n",
    "    \"\"\"\n",
    "    find the labels of the top k nearest neighbors\n",
    "\n",
    "    Inputs:\n",
    "    - dists: distance matrix of shape (num_test, num_train)\n",
    "    - Y_train: A numpy array of shape (num_train) containing ground true labels for training data\n",
    "    - k: An integer, k nearest neighbors\n",
    "\n",
    "    Output:\n",
    "    - neighbors: A numpy array of shape (num_test, k), where each row containts the \n",
    "               labels of the k nearest neighbors for each test example\n",
    "    \"\"\"\n",
    "    # find the top k nearest neighbors for each test sample. Retrieve the corresponding labels of those neighbors.\n",
    "\n",
    "    num_test = dists.shape[0]\n",
    "    neighbors = np.zeros((num_test, k), dtype=int)\n",
    "\n",
    "    for i in range(0, num_test):\n",
    "        idx = np.argsort(dists[i])\n",
    "        neighbors[i] = Y_train[np.array(idx[:k])]\n",
    "\n",
    "    return neighbors"
   ]
  },
  {
   "cell_type": "markdown",
   "metadata": {
    "id": "ISP74Eh2rr4i"
   },
   "source": [
    "Both functions, `euclidean_dist` and `find_k_neighbors`, can be put together so that labels can be predicted for test examples.  In kNN, the most common label of the $k$ nearest neighbors are found and assign to the test sample."
   ]
  },
  {
   "cell_type": "code",
   "execution_count": 10,
   "metadata": {
    "colab": {
     "base_uri": "https://localhost:8080/"
    },
    "id": "LXqx94yVt41e",
    "outputId": "7dbd948e-5d56-4066-e877-9c6b124667b6"
   },
   "outputs": [],
   "source": [
    "def knn_predict(X_test, X_train, Y_train, k):\n",
    "    \"\"\"\n",
    "    predict labels for test data.\n",
    "\n",
    "    Inputs:\n",
    "    - X_test: A numpy array of shape (num_test, dim_feat) containing test data.\n",
    "    - X_train: A numpy array of shape (num_train, dim_feat) containing training data.\n",
    "    - Y_train: A numpy array of shape (num_train) containing ground true labels for training data\n",
    "    - k: An integer, k nearest neighbors\n",
    "\n",
    "    Output:\n",
    "    - Y_pred: A numpy array of shape (num_test). Predicted labels for the test data.\n",
    "    \"\"\"\n",
    "    # find the labels of k nearest neighbors for each test example, and then find the majority label out of the k labels\n",
    "\n",
    "    num_test = X_test.shape[0]\n",
    "\n",
    "    dists = euclidean_dist(X_test, X_train)\n",
    "    neighbors = find_k_neighbors(dists, Y_train, k)\n",
    "    Y_pred = np.zeros(num_test, dtype=int)\n",
    "\n",
    "    for i in range(0, num_test):\n",
    "        values, counts = np.unique(neighbors[i], return_counts=True)\n",
    "        idx = np.where(counts == max(counts))\n",
    "        Y_pred[i] = values[idx[0][0]]\n",
    "\n",
    "    return Y_pred"
   ]
  },
  {
   "cell_type": "markdown",
   "metadata": {
    "id": "i7EAaUOyC4AY"
   },
   "source": [
    "Next function compares the predicted labels against the true label and compute the error rate in percentage."
   ]
  },
  {
   "cell_type": "code",
   "execution_count": 11,
   "metadata": {
    "id": "Vr3PVo1_C7_r"
   },
   "outputs": [],
   "source": [
    "def compute_error_rate(ypred, ytrue):\n",
    "    \"\"\"\n",
    "    Compute error rate given the predicted results and true label.\n",
    "    Inputs:\n",
    "    - ypred: array of prediction results.\n",
    "    - ytrue: array of true labels.\n",
    "    ypred and ytrue should be of same length.\n",
    "    Output:\n",
    "    - error rate: float number indicating the error in percentage\n",
    "    \"\"\"\n",
    "    err = 0\n",
    "    num_test = ypred.shape[0]\n",
    "    for i in range(num_test):\n",
    "        err = err + (ypred[i] != ytrue[i])\n",
    "    error_rate = err / num_test * 100\n",
    "    #error_rate = np.mean(np.logical_xor(ypred, ytrue)) * 100\n",
    "    \n",
    "    return error_rate"
   ]
  },
  {
   "cell_type": "markdown",
   "metadata": {
    "id": "VdQoqFW9khl9"
   },
   "source": [
    "## 1.2 Splitting training data for cross validation\n",
    "\n",
    "Cross validation is a technique in which we train the model using a subset of the available dataset and then evaluate using the complementary subset of the data. We evenly partition the dataset into $n$ mutually disjoint subsets (a.k.a. _folds_). We train an ML model on all but one subset (i.e., train on the union of $n-1$ folds), and then evaluate the model on the subset that was left out.  The former is called _training subset_, while the latter is called _validation subset_. This process is repeated $n$ times, with a different subset reserved for evaluation (and excluded from training) each time."
   ]
  },
  {
   "cell_type": "code",
   "execution_count": 12,
   "metadata": {
    "colab": {
     "base_uri": "https://localhost:8080/"
    },
    "id": "OY6j6Ggdr1ph",
    "outputId": "a449c821-de86-4d0c-84bc-b49d67ad3cfd"
   },
   "outputs": [],
   "source": [
    "def split_nfold(num_examples, n):\n",
    "    \"\"\"\n",
    "    Split the dataset in to training sets and validation sets.\n",
    "    Inputs:\n",
    "    - num_examples: Integer, the total number of examples in the dataset\n",
    "    - n: number of folds\n",
    "    Outputs:\n",
    "    - train_sets: List of lists, where train_sets[i] (i = 0 ... n-1) contains \n",
    "                the indices of examples for training\n",
    "    - validation_sets: List of list, where validation_sets[i] (i = 0 ... n-1) \n",
    "                contains the indices of examples for validation\n",
    "    \"\"\"\n",
    "    train_sets = []\n",
    "    validation_sets = []\n",
    "    idx = np.random.permutation(num_examples).tolist()\n",
    "    fold_size = num_examples//n\n",
    "\n",
    "    for i in range(n):\n",
    "\n",
    "        start = i*fold_size\n",
    "        end = start + fold_size\n",
    "\n",
    "        if i == n-1:\n",
    "            end = num_examples\n",
    "\n",
    "        train_set = np.delete(idx, range(start, end), 0).tolist()\n",
    "        train_sets.append(train_set)\n",
    "\n",
    "        val_set = idx[start:end] \n",
    "        validation_sets.append(val_set)\n",
    "\n",
    "    return train_sets, validation_sets"
   ]
  },
  {
   "cell_type": "markdown",
   "metadata": {
    "id": "-LWlt0cd8S4n"
   },
   "source": [
    "The `cross_validation` function will output the cross validation error rate. It will loop over each of the $n$ training/validation partitions in the output of `split_nfold`. Then it will perform training on train_sets[i] and compute the test error on validation_sets[i].  The final cross validation error rate is the average error rate over all partitions. \n",
    "\n",
    "To improve generality, `cross_validation` takes as its first input argument a generic _classifier_ function i.e. kNN"
   ]
  },
  {
   "cell_type": "code",
   "execution_count": 13,
   "metadata": {
    "colab": {
     "base_uri": "https://localhost:8080/"
    },
    "id": "zWHYG-ktFV0x",
    "outputId": "771c3493-d73d-40e7-b53d-4fdf99a48d87"
   },
   "outputs": [],
   "source": [
    "def cross_validation(classifier, X, Y, n, *args):\n",
    "    \"\"\"\n",
    "    Perform cross validation for the given classifier, \n",
    "      and return the cross validation error rate.\n",
    "    Inputs:\n",
    "    - classifier: function of classification method\n",
    "    - X: A 2-D numpy array of shape (num_train, dim_feat), containing the whole dataset\n",
    "    - Y: A 1-D numpy array of length num_train, containing the ground-true labels\n",
    "    - n: number of folds\n",
    "    - *args: parameters needed by the classifier.\n",
    "        There is only one parameter (k) for the kNN clasifier. For other classifiers, there may be multiple paramters. \n",
    "        To keep this function general, it will use *args for an unspecified number of paramters.\n",
    "    Output:\n",
    "    - error_rate: a floating-point number indicating the cross validation error rate\n",
    "    \"\"\"\n",
    "    np.random.seed(1)\n",
    "\n",
    "    errors = []\n",
    "    size = X.shape[0]\n",
    "    train_sets, val_sets = split_nfold(size, n)\n",
    "\n",
    "    #for i in range(n):\n",
    "    #  train_index = train_sets[i]\n",
    "    #  val_index = val_sets[i]\n",
    "\n",
    "    for (train_index, val_index) in zip(train_sets, val_sets):\n",
    "\n",
    "        X_train, X_val = X[train_index], X[val_index]\n",
    "\n",
    "        y_train, y_val = Y[train_index], Y[val_index]\n",
    "\n",
    "        y_pred = knn_predict(X_val, X_train, y_train, args[0])\n",
    "        error = compute_error_rate(y_pred, y_val)\n",
    "\n",
    "        errors.append(error)\n",
    "\n",
    "    error_rate = np.average(errors)\n",
    "\n",
    "    return error_rate "
   ]
  },
  {
   "cell_type": "markdown",
   "metadata": {
    "id": "GNJ62NKozii3"
   },
   "source": [
    "## 2. Application to optical character recognition (OCR) problem\n",
    "\n",
    "First it will download the MNIST dataset and split the data into trainning and test sets. After running the code, the training data (Xtrain, ytrain) has 10,000 examples, and the test data (Xtest, ytest) also has 10,000 examples."
   ]
  },
  {
   "cell_type": "code",
   "execution_count": 15,
   "metadata": {
    "colab": {
     "base_uri": "https://localhost:8080/"
    },
    "id": "sgWufXl41uJX",
    "outputId": "d264c11d-122a-4991-a8f7-93c5a33f7caf",
    "tags": []
   },
   "outputs": [
    {
     "name": "stdout",
     "output_type": "stream",
     "text": [
      "Downloading train-images-idx3-ubyte.gz\n",
      "Downloading train-labels-idx1-ubyte.gz\n",
      "Downloading t10k-images-idx3-ubyte.gz\n",
      "Downloading t10k-labels-idx1-ubyte.gz\n"
     ]
    }
   ],
   "source": [
    "import os\n",
    "import gzip\n",
    "\n",
    "DATA_URL = 'http://yann.lecun.com/exdb/mnist/'\n",
    "\n",
    "# Download and import the MNIST dataset from Yann LeCun's website.\n",
    "# Each image is an array of 784 (28x28) float values  from 0 (white) to 1 (black).\n",
    "def load_data():\n",
    "    x_tr = load_images('train-images-idx3-ubyte.gz')\n",
    "    y_tr = load_labels('train-labels-idx1-ubyte.gz')\n",
    "    x_te = load_images('t10k-images-idx3-ubyte.gz')\n",
    "    y_te = load_labels('t10k-labels-idx1-ubyte.gz')\n",
    "\n",
    "    return x_tr, y_tr, x_te, y_te\n",
    "\n",
    "def load_images(filename):\n",
    "    maybe_download(filename)\n",
    "    with gzip.open(filename, 'rb') as f:\n",
    "        data = np.frombuffer(f.read(), np.uint8, offset=16)\n",
    "    return data.reshape(-1, 28 * 28) / np.float32(256)\n",
    "\n",
    "def load_labels(filename):\n",
    "    maybe_download(filename)\n",
    "    with gzip.open(filename, 'rb') as f:\n",
    "        data = np.frombuffer(f.read(), np.uint8, offset=8)\n",
    "    return data\n",
    "\n",
    "# Download the file, unless it's already here.\n",
    "def maybe_download(filename):\n",
    "    if not os.path.exists(filename):\n",
    "        from urllib.request import urlretrieve\n",
    "        print(\"Downloading %s\" % filename)\n",
    "        urlretrieve(DATA_URL + filename, filename)\n",
    "\n",
    "Xtrain, ytrain, Xtest, ytest = load_data()\n",
    "\n",
    "train_size = 10000\n",
    "test_size  = 10000\n",
    "\n",
    "Xtrain = Xtrain[0:train_size]\n",
    "ytrain = ytrain[0:train_size]\n",
    "\n",
    "Xtest = Xtest[0:test_size]\n",
    "ytest = ytest[0:test_size]"
   ]
  },
  {
   "cell_type": "markdown",
   "metadata": {
    "id": "Y-KNutaT130w"
   },
   "source": [
    "## 2.1 Effect of different numbers of training examples\n",
    "\n",
    "It computes the classification error of the 1-NN ($k=1$) for the MNIST dataset by calling the `knn_predict` function and check if the error changes with different number of training examples. It will train on the **first** $ntr$ number of training examples in (Xtrain, ytrain), where $ntr$ is varied in $\\{100, 1000, 2500, 5000, 7500, 10000\\}$.\n",
    "1. Print the test error rate for each of these values of $ntr$ using all 10,000 test examples stored in (Xtest, ytest) for testing.\n",
    "2. Plot a figure where the $x$-axis is the above values of $ntr$, and the $y$-axis is the test error rate.\n",
    "\n",
    "Directly calling `knn_predict` with the training and test set may cost too much memory.  So it classifies the test examples in batches, i.e., divide the test set into `nbtaches` number of subsets/batches, and predict for the first batch, then second batch, etc."
   ]
  },
  {
   "cell_type": "code",
   "execution_count": 16,
   "metadata": {
    "colab": {
     "base_uri": "https://localhost:8080/",
     "height": 388
    },
    "id": "lbnD99tN3WIG",
    "outputId": "4c64dbcb-0585-436f-a026-738ed534691d",
    "tags": []
   },
   "outputs": [
    {
     "name": "stdout",
     "output_type": "stream",
     "text": [
      "#tr = 100, error rate = 32.06%\n",
      "#tr = 1000, error rate = 13.10%\n",
      "#tr = 2500, error rate = 8.64%\n",
      "#tr = 5000, error rate = 6.57%\n",
      "#tr = 7500, error rate = 5.91%\n",
      "#tr = 10000, error rate = 5.37%\n"
     ]
    },
    {
     "data": {
      "image/png": "[encoded data removed]",
      "text/plain": [
       "<Figure size 432x288 with 1 Axes>"
      ]
     },
     "metadata": {
      "needs_background": "light"
     },
     "output_type": "display_data"
    }
   ],
   "source": [
    "#  nbatches must be an even divisor of test_size. Increase if memmory runs out\n",
    "if test_size > 1000:\n",
    "    nbatches = 50\n",
    "else:\n",
    "    nbatches = 5\n",
    "\n",
    "# Let us first set up the index of each batch. \n",
    "# After running the next line, 'batches' will be a 2D array sized nbatches-by-m,\n",
    "# where m = test_size / nbatches.\n",
    "# batches[i] stores the indices (out of 0...test_size-1) for the i-th batch\n",
    "# Run 'print(batches[3])' etc to witness the value of 'batches'.\n",
    "test_size = 10000\n",
    "batches = np.array_split(np.arange(test_size), nbatches)\n",
    "ypred = np.zeros_like(ytest)\n",
    "trial_sizes = [100, 1000, 2500, 5000, 7500, 10000]\n",
    "trials = len(trial_sizes)\n",
    "error_rates = [0]*trials\n",
    "k = 1\n",
    "\n",
    "for t in range(trials):\n",
    "    trial_size = trial_sizes[t]\n",
    "    trial_X = Xtrain[:trial_size]\n",
    "    trial_Y = ytrain[:trial_size]\n",
    "\n",
    "    ypred = []\n",
    "    for i in range(nbatches):\n",
    "        ypred.extend(knn_predict(Xtest[batches[i]], trial_X, trial_Y, k))\n",
    "    ypred = np.asarray(ypred)\n",
    "\n",
    "    error_rates[t] = compute_error_rate(ypred, ytest)\n",
    "    print(f'#tr = {trial_size}, error rate = {error_rates[t]:.2f}%')\n",
    "\n",
    "plt.plot( trial_sizes, error_rates)\n",
    "plt.xlabel('Trial sizes')\n",
    "plt.ylabel('Error rates')\n",
    "plt.show()\n"
   ]
  },
  {
   "cell_type": "markdown",
   "metadata": {
    "id": "9XeimykK5pYe"
   },
   "source": [
    "## 2.2 Effect of different number of cross validation folds\n",
    "\n",
    "In the following code block, we will perform cross validation on 1-NN classification. I will compute the cross validation error rate for the first **1000** training examples with different number of folds $n \\in \\{3, 10, 50, 100, 1000\\}$. Then **print** the error rate for each different $n$ and **plot** a figure where the $x$-axis is $n = \\{3, 10, 50, 100, 1000\\}$, and the $y$-axis is the $n$-fold cross validation error rate. \n",
    "\n",
    "In the current setting, the **1000** training examples correspond to the _dataset_. In other words, this Section 2.2 will **not** use the test examples loaded from Problem 2, nor the remaining $10000 - 1000 = 9000$ training examples."
   ]
  },
  {
   "cell_type": "code",
   "execution_count": 17,
   "metadata": {
    "colab": {
     "base_uri": "https://localhost:8080/",
     "height": 461
    },
    "id": "I-BHBavY64nc",
    "outputId": "0175b277-84d4-4385-fe24-1be43f893dcb",
    "tags": []
   },
   "outputs": [
    {
     "name": "stdout",
     "output_type": "stream",
     "text": [
      "3-folds error rate: 12.70%\n",
      "\n",
      "10-folds error rate: 12.00%\n",
      "\n",
      "50-folds error rate: 12.10%\n",
      "\n",
      "100-folds error rate: 11.90%\n",
      "\n",
      "1000-folds error rate: 11.80%\n",
      "\n"
     ]
    },
    {
     "data": {
      "image/png": "[encoded data removed]",
      "text/plain": [
       "<Figure size 432x288 with 1 Axes>"
      ]
     },
     "metadata": {
      "needs_background": "light"
     },
     "output_type": "display_data"
    }
   ],
   "source": [
    "\n",
    "size = 1000\n",
    "k = 1\n",
    "\n",
    "cvXtrain = Xtrain[:1000]\n",
    "cvytrain = ytrain[:1000]\n",
    "\n",
    "trial_folds = [3, 10, 50, 100, 1000]\n",
    "trials = len(trial_folds)\n",
    "cverror_rates = [0]*trials\n",
    "\n",
    "for t in range(trials):\n",
    "    error_rate = cross_validation(knn_predict, cvXtrain, cvytrain, trial_folds[t], k)\n",
    "    cverror_rates[t] = error_rate\n",
    "\n",
    "    print('{:d}-folds error rate: {:.2f}%\\n'.format(trial_folds[t], error_rate)) \n",
    "\n",
    "plt.plot( trial_folds, cverror_rates)\n",
    "plt.xlabel('Trial folds')\n",
    "plt.ylabel('Error rates')\n",
    "plt.show()"
   ]
  },
  {
   "cell_type": "markdown",
   "metadata": {
    "id": "kqIJpMGSznO7"
   },
   "source": [
    "## 3. Iris plant recognition application\n",
    "\n",
    "The iris dataset includes 3 iris species of 50 examples each, where each example recorded petal and sepal length. For convenience, we will use the built-in functions in `scikit-learn` library to load dataset and create data partitions. For this experiment, we will use $80\\%$ (120) examples for training and $20\\%$ (30) for testing. "
   ]
  },
  {
   "cell_type": "code",
   "execution_count": 18,
   "metadata": {
    "id": "bTjfkSdYFQI2"
   },
   "outputs": [],
   "source": [
    "from sklearn.datasets import load_iris\n",
    "from sklearn.model_selection import train_test_split\n",
    "\n",
    "# loading iris dataset\n",
    "iris = load_iris()\n",
    "# split dataset into training set and test set\n",
    "X_train, X_test, Y_train, Y_test = train_test_split(iris.data, iris.target, test_size=0.2, random_state=1)"
   ]
  },
  {
   "cell_type": "markdown",
   "metadata": {
    "id": "dBtnC-PuIeGz"
   },
   "source": [
    "### 3.1 Find the best $k$\n",
    "The value of $k$ has a considerable impact on the performance of kNN. To determine the best value of this hyperparameter we can use $10$-fold cross-validation.\n",
    "We will vary $k$ in the range (1, 100) in increments of 1.\n",
    "Then we will find the best $k$ in terms of the lowest validation error rate. It will also plot a curve that shows the validation error rates as $k$ increases. \n",
    "\n",
    "In the current setting, (X_strain, Y_train) loaded above correspond to the _dataset_. In other words, this Section 3.1 will **not** use the test examples loaded above."
   ]
  },
  {
   "cell_type": "code",
   "execution_count": 19,
   "metadata": {
    "colab": {
     "base_uri": "https://localhost:8080/",
     "height": 297
    },
    "id": "gPm48esA3xJG",
    "outputId": "137b025b-6ade-4059-9d19-e3a7b99719b5",
    "tags": []
   },
   "outputs": [
    {
     "name": "stdout",
     "output_type": "stream",
     "text": [
      "Best value of K:  9\n"
     ]
    },
    {
     "data": {
      "image/png": "[encoded data removed]",
      "text/plain": [
       "<Figure size 432x288 with 1 Axes>"
      ]
     },
     "metadata": {
      "needs_background": "light"
     },
     "output_type": "display_data"
    }
   ],
   "source": [
    "list_ks = list(range(1, 101))\n",
    "err_ks = np.zeros(100)\n",
    "for k in list_ks:\n",
    "    err_ks[k-1] = cross_validation(knn_predict, X_train, Y_train, 10, k)\n",
    "\n",
    "best_k = np.argmin(err_ks)+1\n",
    "\n",
    "print('Best value of K: ', best_k)\n",
    "\n",
    "plt.plot( list_ks, err_ks)\n",
    "plt.xlabel('K values')\n",
    "plt.ylabel('Error rates')\n",
    "plt.show()"
   ]
  },
  {
   "cell_type": "markdown",
   "metadata": {
    "id": "EysI5YBT3xJK"
   },
   "source": [
    "### 3.2 Evaluation on test set\n",
    "With the best hyperparameters for KNN classifier, it's time to evaluate this method on test data."
   ]
  },
  {
   "cell_type": "code",
   "execution_count": 20,
   "metadata": {
    "colab": {
     "base_uri": "https://localhost:8080/"
    },
    "id": "qJVXqpO43xJL",
    "outputId": "006814b2-2030-4686-ab2c-3df3f843b619",
    "tags": []
   },
   "outputs": [
    {
     "name": "stdout",
     "output_type": "stream",
     "text": [
      "The test error is 3.3%\n"
     ]
    }
   ],
   "source": [
    "y_pred = knn_predict(X_test, X_train, Y_train, best_k)\n",
    "err_test = compute_error_rate(y_pred, Y_test)\n",
    "\n",
    "print(f'The test error is {err_test:.1f}%')"
   ]
  },
  {
   "cell_type": "markdown",
   "metadata": {
    "id": "PD58RUy73xJN"
   },
   "source": [
    "### 3.3 F-score measurement\n",
    "So far we have mainly used classification accuracy to evaluate the performance of our model. As a performance measure, **accuracy is inappropriate for imbalanced classification problems.**\n",
    "An alternative is the F-score metrics. To do so we will implement the computation of the confusion matrix on test set using `y_test` and the prediction `y_pred` from Section 3.2 and the F1 score manually. Also, report the precision, recall, and F1-score for each class by using the built-in functions from sklearn.\n"
   ]
  },
  {
   "cell_type": "code",
   "execution_count": 21,
   "metadata": {
    "colab": {
     "base_uri": "https://localhost:8080/"
    },
    "id": "E6myu3yF3xJN",
    "outputId": "9d0b99ee-edf4-4c31-d0f3-540e7f942944",
    "tags": []
   },
   "outputs": [
    {
     "name": "stdout",
     "output_type": "stream",
     "text": [
      "Dev Confusion Matrix: \n",
      " [[11  0  0]\n",
      " [ 0 12  1]\n",
      " [ 0  0  6]]\n",
      "Skl Confusion Matrix: \n",
      " [[11  0  0]\n",
      " [ 0 12  1]\n",
      " [ 0  0  6]]\n",
      "Skl report: \n",
      "               precision    recall  f1-score   support\n",
      "\n",
      "           0       1.00      1.00      1.00        11\n",
      "           1       1.00      0.92      0.96        13\n",
      "           2       0.86      1.00      0.92         6\n",
      "\n",
      "    accuracy                           0.97        30\n",
      "   macro avg       0.95      0.97      0.96        30\n",
      "weighted avg       0.97      0.97      0.97        30\n",
      "\n",
      "F1 scores: \n",
      " [c1, c2, c3] =  [1.0, 0.96, 0.92]\n"
     ]
    }
   ],
   "source": [
    "nclass = len(np.unique(Y_test))  # should be 3. Just be more adaptive to data.\n",
    "cm = np.zeros((nclass, nclass), dtype=int)  # confusion matrix is integer valued\n",
    "\n",
    "from sklearn.metrics import confusion_matrix, classification_report\n",
    "\n",
    "def calulate_F1_score(cm, nclass):\n",
    "\n",
    "    f1_scores = []\n",
    "    for c in range(nclass):\n",
    "        TP = cm[c][c]\n",
    "        precision = TP / (TP + cm.sum(axis=0)[c]- TP)\n",
    "        recall = TP / (TP + cm.sum(axis=1)[c] - TP)\n",
    "        f1 = round(2*(precision*recall)/(precision+recall), 2)\n",
    "        f1_scores.append(f1)\n",
    "    return f1_scores\n",
    "\n",
    "nte = X_test.shape[0]\n",
    "for t in range(nte):\n",
    "    cm[Y_test[t], y_pred[t]] += 1\n",
    "\n",
    "skl_cm = confusion_matrix(Y_test, y_pred)\n",
    "skl_report = classification_report(Y_test, y_pred)\n",
    "\n",
    "print('Dev Confusion Matrix: \\n', cm)\n",
    "print('Skl Confusion Matrix: \\n', skl_cm)\n",
    "print('Skl report: \\n', skl_report)\n",
    "print('F1 scores: \\n', '[c1, c2, c3] = ', calulate_F1_score(cm, nclass))"
   ]
  }
 ],
 "metadata": {
  "colab": {
   "collapsed_sections": [],
   "name": "Lab_1_subm.ipynb",
   "provenance": []
  },
  "kernelspec": {
   "display_name": "Python 3",
   "language": "python",
   "name": "python3"
  },
  "language_info": {
   "codemirror_mode": {
    "name": "ipython",
    "version": 3
   },
   "file_extension": ".py",
   "mimetype": "text/x-python",
   "name": "python",
   "nbconvert_exporter": "python",
   "pygments_lexer": "ipython3",
   "version": "3.8.12"
  }
 },
 "nbformat": 4,
 "nbformat_minor": 1
}
